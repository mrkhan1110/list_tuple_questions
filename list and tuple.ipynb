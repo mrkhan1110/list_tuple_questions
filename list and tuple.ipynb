{
 "cells": [
  {
   "cell_type": "markdown",
   "id": "2d27a7fe-45c3-4dec-a3c7-30d6347d160b",
   "metadata": {},
   "source": [
    "Q1) Write a program to store seven fruits in a list entered by the user"
   ]
  },
  {
   "cell_type": "code",
   "execution_count": null,
   "id": "0c127de8-6586-4cf8-a3ea-7fc7fb758b40",
   "metadata": {},
   "outputs": [
    {
     "name": "stdin",
     "output_type": "stream",
     "text": [
      "Enter fruit 1 : Mango\n",
      "Enter fruit 2 : Banana\n",
      "Enter fruit 3 : Grapes\n"
     ]
    }
   ],
   "source": [
    "f1 = input(\"Enter fruit 1 :\")\n",
    "f2 = input(\"Enter fruit 2 :\")\n",
    "f3 = input(\"Enter fruit 3 :\")\n",
    "f4 = input(\"Enter fruit 4 :\")\n",
    "f5 = input(\"Enter fruit 5 :\")\n",
    "f6 = input(\"Enter fruit 6 :\")\n",
    "f7 = input(\"Enter fruit 7 :\")\n",
    "myfruit = [f1,f2,f3,f4,f5,f6,f7,]\n",
    "print(myfruit)"
   ]
  },
  {
   "cell_type": "markdown",
   "id": "878ddc6f-4064-4941-8aa0-4fc190ea845a",
   "metadata": {},
   "source": [
    "Q2) Write a program to accept marks of 3 students and display them in a sorted manner."
   ]
  },
  {
   "cell_type": "code",
   "execution_count": 2,
   "id": "fcce6acc-98a9-4abc-8bc8-9781fda30897",
   "metadata": {},
   "outputs": [
    {
     "name": "stdin",
     "output_type": "stream",
     "text": [
      "Enter marks 1 : 56\n",
      "Enter marks 2 : 6\n",
      "Enter marks 3 : 98\n"
     ]
    },
    {
     "name": "stdout",
     "output_type": "stream",
     "text": [
      "[6, 56, 98]\n"
     ]
    }
   ],
   "source": [
    "m1 = int(input(\"Enter marks 1 :\"))\n",
    "m2 = int(input(\"Enter marks 2 :\"))\n",
    "m3 = int(input(\"Enter marks 3 :\"))\n",
    "mylist = [m1,m2,m3]\n",
    "mylist.sort()\n",
    "print(mylist)"
   ]
  },
  {
   "cell_type": "markdown",
   "id": "6a842f0a-1aa8-4274-a506-a477f8af5b09",
   "metadata": {},
   "source": [
    "Q3) Write a program to sum a list with 2 numbers."
   ]
  },
  {
   "cell_type": "code",
   "execution_count": 4,
   "id": "7c8b5b5f-cf7a-4735-8dd6-369525c8fe94",
   "metadata": {},
   "outputs": [
    {
     "name": "stdout",
     "output_type": "stream",
     "text": [
      "45\n"
     ]
    }
   ],
   "source": [
    "a = [20,25]\n",
    "print(a[0] + a[1])"
   ]
  },
  {
   "cell_type": "markdown",
   "id": "56362734-93bb-46c8-930b-4fb560b3257e",
   "metadata": {},
   "source": [
    "Q4) Write a program to count the number of zeros in the tuple"
   ]
  },
  {
   "cell_type": "code",
   "execution_count": 10,
   "id": "787cb9b3-e6dd-466b-b8db-bc2f58e001dd",
   "metadata": {},
   "outputs": [
    {
     "name": "stdout",
     "output_type": "stream",
     "text": [
      "<built-in method count of tuple object at 0x7f909a2d9540>\n"
     ]
    }
   ],
   "source": [
    "a = (7,0,89,5,0,23,0,56,0)\n",
    "a.count(0)\n",
    "print(a.count)"
   ]
  }
 ],
 "metadata": {
  "kernelspec": {
   "display_name": "Python 3 (ipykernel)",
   "language": "python",
   "name": "python3"
  },
  "language_info": {
   "codemirror_mode": {
    "name": "ipython",
    "version": 3
   },
   "file_extension": ".py",
   "mimetype": "text/x-python",
   "name": "python",
   "nbconvert_exporter": "python",
   "pygments_lexer": "ipython3",
   "version": "3.10.8"
  }
 },
 "nbformat": 4,
 "nbformat_minor": 5
}
